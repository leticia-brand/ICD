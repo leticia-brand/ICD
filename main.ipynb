{
 "cells": [
  {
   "cell_type": "code",
   "execution_count": 43,
   "metadata": {},
   "outputs": [],
   "source": [
    "import pandas as pd\n",
    "import numpy as np\n",
    "import warnings\n",
    "import matplotlib.pyplot as plt\n",
    "import warnings\n",
    "import seaborn as sns\n",
    "warnings.simplefilter(action='ignore')"
   ]
  },
  {
   "cell_type": "code",
   "execution_count": 21,
   "metadata": {},
   "outputs": [],
   "source": [
    "crimes = pd.read_csv(\"NYC_crime.csv\")"
   ]
  },
  {
   "cell_type": "code",
   "execution_count": 22,
   "metadata": {},
   "outputs": [
    {
     "data": {
      "text/html": [
       "<div>\n",
       "<style scoped>\n",
       "    .dataframe tbody tr th:only-of-type {\n",
       "        vertical-align: middle;\n",
       "    }\n",
       "\n",
       "    .dataframe tbody tr th {\n",
       "        vertical-align: top;\n",
       "    }\n",
       "\n",
       "    .dataframe thead th {\n",
       "        text-align: right;\n",
       "    }\n",
       "</style>\n",
       "<table border=\"1\" class=\"dataframe\">\n",
       "  <thead>\n",
       "    <tr style=\"text-align: right;\">\n",
       "      <th></th>\n",
       "      <th>Unnamed: 0</th>\n",
       "      <th>arrest_key</th>\n",
       "      <th>arrest_date</th>\n",
       "      <th>pd_desc</th>\n",
       "      <th>ofns_desc</th>\n",
       "      <th>law_code</th>\n",
       "      <th>law_cat_cd</th>\n",
       "      <th>age_group</th>\n",
       "      <th>perp_sex</th>\n",
       "      <th>perp_race</th>\n",
       "      <th>latitude</th>\n",
       "      <th>longitude</th>\n",
       "      <th>arrest_boro</th>\n",
       "      <th>arrest_precinct</th>\n",
       "      <th>jurisdiction_code</th>\n",
       "      <th>:@computed_region_f5dn_yrer</th>\n",
       "      <th>:@computed_region_yeji_bk3q</th>\n",
       "      <th>:@computed_region_92fq_4b7q</th>\n",
       "      <th>:@computed_region_sbqj_enih</th>\n",
       "    </tr>\n",
       "  </thead>\n",
       "  <tbody>\n",
       "    <tr>\n",
       "      <th>0</th>\n",
       "      <td>0</td>\n",
       "      <td>192799737</td>\n",
       "      <td>2019-01-26</td>\n",
       "      <td>SEXUAL ABUSE</td>\n",
       "      <td>SEX CRIMES</td>\n",
       "      <td>PL 1306503</td>\n",
       "      <td>F</td>\n",
       "      <td>45-64</td>\n",
       "      <td>M</td>\n",
       "      <td>BLACK</td>\n",
       "      <td>40.800694</td>\n",
       "      <td>-73.941109</td>\n",
       "      <td>M</td>\n",
       "      <td>25.0</td>\n",
       "      <td>0.0</td>\n",
       "      <td>7.0</td>\n",
       "      <td>4.0</td>\n",
       "      <td>36.0</td>\n",
       "      <td>16.0</td>\n",
       "    </tr>\n",
       "    <tr>\n",
       "      <th>1</th>\n",
       "      <td>1</td>\n",
       "      <td>193260691</td>\n",
       "      <td>2019-02-06</td>\n",
       "      <td>CRIMINAL SALE OF A CONTROLLED SUBSTANCE</td>\n",
       "      <td>CONTROLLED SUBSTANCES OFFENSES</td>\n",
       "      <td>PL 2203400</td>\n",
       "      <td>F</td>\n",
       "      <td>25-44</td>\n",
       "      <td>M</td>\n",
       "      <td>UNKNOWN</td>\n",
       "      <td>40.757839</td>\n",
       "      <td>-73.991212</td>\n",
       "      <td>M</td>\n",
       "      <td>14.0</td>\n",
       "      <td>0.0</td>\n",
       "      <td>12.0</td>\n",
       "      <td>4.0</td>\n",
       "      <td>10.0</td>\n",
       "      <td>8.0</td>\n",
       "    </tr>\n",
       "    <tr>\n",
       "      <th>2</th>\n",
       "      <td>2</td>\n",
       "      <td>149117452</td>\n",
       "      <td>2016-01-06</td>\n",
       "      <td>RAPE 3</td>\n",
       "      <td>RAPE</td>\n",
       "      <td>PL 1302503</td>\n",
       "      <td>F</td>\n",
       "      <td>25-44</td>\n",
       "      <td>M</td>\n",
       "      <td>BLACK</td>\n",
       "      <td>40.648650</td>\n",
       "      <td>-73.950336</td>\n",
       "      <td>K</td>\n",
       "      <td>67.0</td>\n",
       "      <td>0.0</td>\n",
       "      <td>61.0</td>\n",
       "      <td>2.0</td>\n",
       "      <td>11.0</td>\n",
       "      <td>40.0</td>\n",
       "    </tr>\n",
       "    <tr>\n",
       "      <th>3</th>\n",
       "      <td>3</td>\n",
       "      <td>190049060</td>\n",
       "      <td>2018-11-15</td>\n",
       "      <td>RAPE 1</td>\n",
       "      <td>RAPE</td>\n",
       "      <td>PL 1303501</td>\n",
       "      <td>F</td>\n",
       "      <td>25-44</td>\n",
       "      <td>M</td>\n",
       "      <td>BLACK</td>\n",
       "      <td>40.674583</td>\n",
       "      <td>-73.930222</td>\n",
       "      <td>K</td>\n",
       "      <td>77.0</td>\n",
       "      <td>0.0</td>\n",
       "      <td>16.0</td>\n",
       "      <td>2.0</td>\n",
       "      <td>49.0</td>\n",
       "      <td>49.0</td>\n",
       "    </tr>\n",
       "    <tr>\n",
       "      <th>4</th>\n",
       "      <td>4</td>\n",
       "      <td>24288194</td>\n",
       "      <td>2006-09-13</td>\n",
       "      <td>TRESPASS 3, CRIMINAL</td>\n",
       "      <td>CRIMINAL TRESPASS</td>\n",
       "      <td>PL 140100E</td>\n",
       "      <td>M</td>\n",
       "      <td>45-64</td>\n",
       "      <td>M</td>\n",
       "      <td>BLACK</td>\n",
       "      <td>40.671254</td>\n",
       "      <td>-73.926714</td>\n",
       "      <td>K</td>\n",
       "      <td>77.0</td>\n",
       "      <td>2.0</td>\n",
       "      <td>16.0</td>\n",
       "      <td>2.0</td>\n",
       "      <td>49.0</td>\n",
       "      <td>49.0</td>\n",
       "    </tr>\n",
       "  </tbody>\n",
       "</table>\n",
       "</div>"
      ],
      "text/plain": [
       "   Unnamed: 0  arrest_key arrest_date  \\\n",
       "0           0   192799737  2019-01-26   \n",
       "1           1   193260691  2019-02-06   \n",
       "2           2   149117452  2016-01-06   \n",
       "3           3   190049060  2018-11-15   \n",
       "4           4    24288194  2006-09-13   \n",
       "\n",
       "                                   pd_desc                       ofns_desc  \\\n",
       "0                             SEXUAL ABUSE                      SEX CRIMES   \n",
       "1  CRIMINAL SALE OF A CONTROLLED SUBSTANCE  CONTROLLED SUBSTANCES OFFENSES   \n",
       "2                                   RAPE 3                            RAPE   \n",
       "3                                   RAPE 1                            RAPE   \n",
       "4                     TRESPASS 3, CRIMINAL               CRIMINAL TRESPASS   \n",
       "\n",
       "     law_code law_cat_cd age_group perp_sex perp_race   latitude  longitude  \\\n",
       "0  PL 1306503          F     45-64        M     BLACK  40.800694 -73.941109   \n",
       "1  PL 2203400          F     25-44        M   UNKNOWN  40.757839 -73.991212   \n",
       "2  PL 1302503          F     25-44        M     BLACK  40.648650 -73.950336   \n",
       "3  PL 1303501          F     25-44        M     BLACK  40.674583 -73.930222   \n",
       "4  PL 140100E          M     45-64        M     BLACK  40.671254 -73.926714   \n",
       "\n",
       "  arrest_boro  arrest_precinct  jurisdiction_code  \\\n",
       "0           M             25.0                0.0   \n",
       "1           M             14.0                0.0   \n",
       "2           K             67.0                0.0   \n",
       "3           K             77.0                0.0   \n",
       "4           K             77.0                2.0   \n",
       "\n",
       "   :@computed_region_f5dn_yrer  :@computed_region_yeji_bk3q  \\\n",
       "0                          7.0                          4.0   \n",
       "1                         12.0                          4.0   \n",
       "2                         61.0                          2.0   \n",
       "3                         16.0                          2.0   \n",
       "4                         16.0                          2.0   \n",
       "\n",
       "   :@computed_region_92fq_4b7q  :@computed_region_sbqj_enih  \n",
       "0                         36.0                         16.0  \n",
       "1                         10.0                          8.0  \n",
       "2                         11.0                         40.0  \n",
       "3                         49.0                         49.0  \n",
       "4                         49.0                         49.0  "
      ]
     },
     "execution_count": 22,
     "metadata": {},
     "output_type": "execute_result"
    }
   ],
   "source": [
    "crimes.head()"
   ]
  },
  {
   "cell_type": "code",
   "execution_count": 23,
   "metadata": {},
   "outputs": [
    {
     "name": "stdout",
     "output_type": "stream",
     "text": [
      "<class 'pandas.core.frame.DataFrame'>\n",
      "RangeIndex: 1309169 entries, 0 to 1309168\n",
      "Data columns (total 19 columns):\n",
      " #   Column                       Non-Null Count    Dtype  \n",
      "---  ------                       --------------    -----  \n",
      " 0   Unnamed: 0                   1309169 non-null  int64  \n",
      " 1   arrest_key                   1309169 non-null  int64  \n",
      " 2   arrest_date                  1309169 non-null  object \n",
      " 3   pd_desc                      1309169 non-null  object \n",
      " 4   ofns_desc                    1309169 non-null  object \n",
      " 5   law_code                     1309168 non-null  object \n",
      " 6   law_cat_cd                   1302726 non-null  object \n",
      " 7   age_group                    1309168 non-null  object \n",
      " 8   perp_sex                     1309168 non-null  object \n",
      " 9   perp_race                    1309168 non-null  object \n",
      " 10  latitude                     1309168 non-null  float64\n",
      " 11  longitude                    1309168 non-null  float64\n",
      " 12  arrest_boro                  1309168 non-null  object \n",
      " 13  arrest_precinct              1309168 non-null  float64\n",
      " 14  jurisdiction_code            1309168 non-null  float64\n",
      " 15  :@computed_region_f5dn_yrer  1308918 non-null  float64\n",
      " 16  :@computed_region_yeji_bk3q  1308920 non-null  float64\n",
      " 17  :@computed_region_92fq_4b7q  1308918 non-null  float64\n",
      " 18  :@computed_region_sbqj_enih  1308917 non-null  float64\n",
      "dtypes: float64(8), int64(2), object(9)\n",
      "memory usage: 189.8+ MB\n"
     ]
    }
   ],
   "source": [
    "crimes.info()"
   ]
  },
  {
   "cell_type": "code",
   "execution_count": 24,
   "metadata": {},
   "outputs": [],
   "source": [
    "crimes_2019 = []\n",
    "for i in crimes['arrest_date']:\n",
    "    if '2019' in i:\n",
    "        crimes_2019.append(i)"
   ]
  },
  {
   "cell_type": "code",
   "execution_count": 25,
   "metadata": {},
   "outputs": [
    {
     "name": "stdout",
     "output_type": "stream",
     "text": [
      "<class 'pandas.core.frame.DataFrame'>\n",
      "Int64Index: 161878 entries, 0 to 162616\n",
      "Data columns (total 19 columns):\n",
      " #   Column                       Non-Null Count   Dtype  \n",
      "---  ------                       --------------   -----  \n",
      " 0   Unnamed: 0                   161878 non-null  int64  \n",
      " 1   arrest_key                   161878 non-null  int64  \n",
      " 2   arrest_date                  161878 non-null  object \n",
      " 3   pd_desc                      161878 non-null  object \n",
      " 4   ofns_desc                    161878 non-null  object \n",
      " 5   law_code                     161878 non-null  object \n",
      " 6   law_cat_cd                   160820 non-null  object \n",
      " 7   age_group                    161878 non-null  object \n",
      " 8   perp_sex                     161878 non-null  object \n",
      " 9   perp_race                    161878 non-null  object \n",
      " 10  latitude                     161878 non-null  float64\n",
      " 11  longitude                    161878 non-null  float64\n",
      " 12  arrest_boro                  161878 non-null  object \n",
      " 13  arrest_precinct              161878 non-null  float64\n",
      " 14  jurisdiction_code            161878 non-null  float64\n",
      " 15  :@computed_region_f5dn_yrer  161845 non-null  float64\n",
      " 16  :@computed_region_yeji_bk3q  161845 non-null  float64\n",
      " 17  :@computed_region_92fq_4b7q  161845 non-null  float64\n",
      " 18  :@computed_region_sbqj_enih  161845 non-null  float64\n",
      "dtypes: float64(8), int64(2), object(9)\n",
      "memory usage: 24.7+ MB\n"
     ]
    }
   ],
   "source": [
    "crimes_filtered = crimes.loc[crimes['arrest_date'].isin(crimes_2019)]\n",
    "crimes_filtered.info()"
   ]
  },
  {
   "cell_type": "code",
   "execution_count": 26,
   "metadata": {},
   "outputs": [
    {
     "name": "stdout",
     "output_type": "stream",
     "text": [
      "<class 'pandas.core.frame.DataFrame'>\n",
      "Int64Index: 132164 entries, 0 to 162615\n",
      "Data columns (total 19 columns):\n",
      " #   Column                       Non-Null Count   Dtype  \n",
      "---  ------                       --------------   -----  \n",
      " 0   Unnamed: 0                   132164 non-null  int64  \n",
      " 1   arrest_key                   132164 non-null  int64  \n",
      " 2   arrest_date                  132164 non-null  object \n",
      " 3   pd_desc                      132164 non-null  object \n",
      " 4   ofns_desc                    132164 non-null  object \n",
      " 5   law_code                     132164 non-null  object \n",
      " 6   law_cat_cd                   131215 non-null  object \n",
      " 7   age_group                    132164 non-null  object \n",
      " 8   perp_sex                     132164 non-null  object \n",
      " 9   perp_race                    132164 non-null  object \n",
      " 10  latitude                     132164 non-null  float64\n",
      " 11  longitude                    132164 non-null  float64\n",
      " 12  arrest_boro                  132164 non-null  object \n",
      " 13  arrest_precinct              132164 non-null  float64\n",
      " 14  jurisdiction_code            132164 non-null  float64\n",
      " 15  :@computed_region_f5dn_yrer  132134 non-null  float64\n",
      " 16  :@computed_region_yeji_bk3q  132134 non-null  float64\n",
      " 17  :@computed_region_92fq_4b7q  132134 non-null  float64\n",
      " 18  :@computed_region_sbqj_enih  132134 non-null  float64\n",
      "dtypes: float64(8), int64(2), object(9)\n",
      "memory usage: 20.2+ MB\n"
     ]
    }
   ],
   "source": [
    "crimes_filtered = crimes_filtered.loc[crimes_filtered['perp_sex']=='M']\n",
    "crimes_filtered.info()"
   ]
  },
  {
   "cell_type": "code",
   "execution_count": 27,
   "metadata": {},
   "outputs": [
    {
     "data": {
      "text/plain": [
       "BLACK                             63247\n",
       "WHITE HISPANIC                    33054\n",
       "WHITE                             15068\n",
       "BLACK HISPANIC                    12171\n",
       "ASIAN / PACIFIC ISLANDER           7280\n",
       "UNKNOWN                             937\n",
       "AMERICAN INDIAN/ALASKAN NATIVE      407\n",
       "Name: perp_race, dtype: int64"
      ]
     },
     "execution_count": 27,
     "metadata": {},
     "output_type": "execute_result"
    }
   ],
   "source": [
    "crimes_filtered['perp_race'].value_counts()"
   ]
  },
  {
   "cell_type": "code",
   "execution_count": 32,
   "metadata": {},
   "outputs": [],
   "source": [
    "crimes_filtered['perp_race'][crimes_filtered['perp_race']=='AMERICAN INDIAN/ALASKAN NATIVE']='Native'\n",
    "crimes_filtered['perp_race'][crimes_filtered['perp_race']=='BLACK']='Black'\n",
    "crimes_filtered['perp_race'][crimes_filtered['perp_race']=='WHITE']='White'\n",
    "crimes_filtered['perp_race'][crimes_filtered['perp_race']=='ASIAN / PACIFIC ISLANDER']='Asian'\n",
    "crimes_filtered['perp_race'][crimes_filtered['perp_race']=='WHITE HISPANIC']='White Hispanic'\n",
    "crimes_filtered['perp_race'][crimes_filtered['perp_race']=='BLACK HISPANIC']='Black Hispanic'\n",
    "crimes_filtered['perp_race'][crimes_filtered['perp_race']=='UNKNOWN']='Unknown'"
   ]
  },
  {
   "cell_type": "code",
   "execution_count": 29,
   "metadata": {},
   "outputs": [
    {
     "data": {
      "text/plain": [
       "Black             63247\n",
       "White Hispanic    33054\n",
       "White             15068\n",
       "Black Hispanic    12171\n",
       "Asian              7280\n",
       "Unknown             937\n",
       "Native              407\n",
       "Name: perp_race, dtype: int64"
      ]
     },
     "execution_count": 29,
     "metadata": {},
     "output_type": "execute_result"
    }
   ],
   "source": [
    "crimes_filtered['perp_race'].value_counts()"
   ]
  },
  {
   "cell_type": "code",
   "execution_count": 73,
   "metadata": {},
   "outputs": [
    {
     "data": {
      "text/plain": [
       "Text(0, 0.5, '')"
      ]
     },
     "execution_count": 73,
     "metadata": {},
     "output_type": "execute_result"
    },
    {
     "data": {
      "image/png": "[encoded data removed]",
      "text/plain": [
       "<Figure size 432x288 with 1 Axes>"
      ]
     },
     "metadata": {
      "needs_background": "light"
     },
     "output_type": "display_data"
    }
   ],
   "source": [
    "sns.countplot(y=\"perp_race\", \n",
    "              data = crimes_filtered, \n",
    "              palette=\"mako\")\n",
    "plt.xlabel(\"Race\")\n",
    "plt.ylabel(\"\")"
   ]
  },
  {
   "cell_type": "code",
   "execution_count": 62,
   "metadata": {},
   "outputs": [
    {
     "data": {
      "text/plain": [
       "Text(0, 0.5, '')"
      ]
     },
     "execution_count": 62,
     "metadata": {},
     "output_type": "execute_result"
    },
    {
     "data": {
      "image/png": "[encoded data removed]",
      "text/plain": [
       "<Figure size 432x288 with 1 Axes>"
      ]
     },
     "metadata": {
      "needs_background": "light"
     },
     "output_type": "display_data"
    }
   ],
   "source": [
    "age_order = [\"<18\",\"18-24\",\"25-44\",\"45-64\",\"65+\"]\n",
    "qualitative_colors= sns.color_palette(\"Set3\",5)\n",
    "sns.countplot(x=\"age_group\", \n",
    "              data = crimes_filtered, \n",
    "              order=age_order, \n",
    "              palette=\"mako\")\n",
    "plt.xlabel(\"Age Group\")\n",
    "plt.ylabel(\"\")"
   ]
  },
  {
   "cell_type": "code",
   "execution_count": 65,
   "metadata": {},
   "outputs": [
    {
     "data": {
      "text/plain": [
       "Text(0, 0.5, '')"
      ]
     },
     "execution_count": 65,
     "metadata": {},
     "output_type": "execute_result"
    },
    {
     "data": {
      "image/png": "[encoded data removed]",
      "text/plain": [
       "<Figure size 432x288 with 1 Axes>"
      ]
     },
     "metadata": {
      "needs_background": "light"
     },
     "output_type": "display_data"
    }
   ],
   "source": [
    "sns.countplot(x=\"law_cat_cd\", \n",
    "              data = crimes_filtered,  \n",
    "              palette=\"mako\")\n",
    "plt.xlabel(\"Type of crime\")\n",
    "plt.ylabel(\"\")"
   ]
  }
 ],
 "metadata": {
  "kernelspec": {
   "display_name": "Python 3",
   "language": "python",
   "name": "python3"
  },
  "language_info": {
   "codemirror_mode": {
    "name": "ipython",
    "version": 3
   },
   "file_extension": ".py",
   "mimetype": "text/x-python",
   "name": "python",
   "nbconvert_exporter": "python",
   "pygments_lexer": "ipython3",
   "version": "3.7.6"
  }
 },
 "nbformat": 4,
 "nbformat_minor": 4
}
