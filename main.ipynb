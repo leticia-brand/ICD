{
 "cells": [
   {
   "cell_type": "markdown",
   "metadata": {},
   "source": [
    "# Limpeza dos dados"
   ]
  },
  {
   "cell_type": "code",
   "execution_count": 1,
   "metadata": {},
   "outputs": [],
   "source": [
    "import pandas as pd\n",
    "import numpy as np\n",
    "import warnings\n",
    "import matplotlib.pyplot as plt\n",
    "import warnings\n",
    "import seaborn as sns\n",
    "warnings.simplefilter(action='ignore')"
   ]
  },
  {
   "cell_type": "code",
   "execution_count": 2,
   "metadata": {},
   "outputs": [],
   "source": [
    "crimes = pd.read_csv(\"NYC_crime.csv\")"
   ]
  },
  {
   "cell_type": "code",
   "execution_count": 3,
   "metadata": {},
   "outputs": [
    {
     "data": {
      "text/html": [
       "<div>\n",
       "<style scoped>\n",
       "    .dataframe tbody tr th:only-of-type {\n",
       "        vertical-align: middle;\n",
       "    }\n",
       "\n",
       "    .dataframe tbody tr th {\n",
       "        vertical-align: top;\n",
       "    }\n",
       "\n",
       "    .dataframe thead th {\n",
       "        text-align: right;\n",
       "    }\n",
       "</style>\n",
       "<table border=\"1\" class=\"dataframe\">\n",
       "  <thead>\n",
       "    <tr style=\"text-align: right;\">\n",
       "      <th></th>\n",
       "      <th>Unnamed: 0</th>\n",
       "      <th>arrest_key</th>\n",
       "      <th>arrest_date</th>\n",
       "      <th>pd_desc</th>\n",
       "      <th>ofns_desc</th>\n",
       "      <th>law_code</th>\n",
       "      <th>law_cat_cd</th>\n",
       "      <th>age_group</th>\n",
       "      <th>perp_sex</th>\n",
       "      <th>perp_race</th>\n",
       "      <th>latitude</th>\n",
       "      <th>longitude</th>\n",
       "      <th>arrest_boro</th>\n",
       "      <th>arrest_precinct</th>\n",
       "      <th>jurisdiction_code</th>\n",
       "      <th>:@computed_region_f5dn_yrer</th>\n",
       "      <th>:@computed_region_yeji_bk3q</th>\n",
       "      <th>:@computed_region_92fq_4b7q</th>\n",
       "      <th>:@computed_region_sbqj_enih</th>\n",
       "    </tr>\n",
       "  </thead>\n",
       "  <tbody>\n",
       "    <tr>\n",
       "      <th>0</th>\n",
       "      <td>0</td>\n",
       "      <td>192799737</td>\n",
       "      <td>2019-01-26</td>\n",
       "      <td>SEXUAL ABUSE</td>\n",
       "      <td>SEX CRIMES</td>\n",
       "      <td>PL 1306503</td>\n",
       "      <td>F</td>\n",
       "      <td>45-64</td>\n",
       "      <td>M</td>\n",
       "      <td>BLACK</td>\n",
       "      <td>40.800694</td>\n",
       "      <td>-73.941109</td>\n",
       "      <td>M</td>\n",
       "      <td>25.0</td>\n",
       "      <td>0.0</td>\n",
       "      <td>7.0</td>\n",
       "      <td>4.0</td>\n",
       "      <td>36.0</td>\n",
       "      <td>16.0</td>\n",
       "    </tr>\n",
       "    <tr>\n",
       "      <th>1</th>\n",
       "      <td>1</td>\n",
       "      <td>193260691</td>\n",
       "      <td>2019-02-06</td>\n",
       "      <td>CRIMINAL SALE OF A CONTROLLED SUBSTANCE</td>\n",
       "      <td>CONTROLLED SUBSTANCES OFFENSES</td>\n",
       "      <td>PL 2203400</td>\n",
       "      <td>F</td>\n",
       "      <td>25-44</td>\n",
       "      <td>M</td>\n",
       "      <td>UNKNOWN</td>\n",
       "      <td>40.757839</td>\n",
       "      <td>-73.991212</td>\n",
       "      <td>M</td>\n",
       "      <td>14.0</td>\n",
       "      <td>0.0</td>\n",
       "      <td>12.0</td>\n",
       "      <td>4.0</td>\n",
       "      <td>10.0</td>\n",
       "      <td>8.0</td>\n",
       "    </tr>\n",
       "    <tr>\n",
       "      <th>2</th>\n",
       "      <td>2</td>\n",
       "      <td>149117452</td>\n",
       "      <td>2016-01-06</td>\n",
       "      <td>RAPE 3</td>\n",
       "      <td>RAPE</td>\n",
       "      <td>PL 1302503</td>\n",
       "      <td>F</td>\n",
       "      <td>25-44</td>\n",
       "      <td>M</td>\n",
       "      <td>BLACK</td>\n",
       "      <td>40.648650</td>\n",
       "      <td>-73.950336</td>\n",
       "      <td>K</td>\n",
       "      <td>67.0</td>\n",
       "      <td>0.0</td>\n",
       "      <td>61.0</td>\n",
       "      <td>2.0</td>\n",
       "      <td>11.0</td>\n",
       "      <td>40.0</td>\n",
       "    </tr>\n",
       "    <tr>\n",
       "      <th>3</th>\n",
       "      <td>3</td>\n",
       "      <td>190049060</td>\n",
       "      <td>2018-11-15</td>\n",
       "      <td>RAPE 1</td>\n",
       "      <td>RAPE</td>\n",
       "      <td>PL 1303501</td>\n",
       "      <td>F</td>\n",
       "      <td>25-44</td>\n",
       "      <td>M</td>\n",
       "      <td>BLACK</td>\n",
       "      <td>40.674583</td>\n",
       "      <td>-73.930222</td>\n",
       "      <td>K</td>\n",
       "      <td>77.0</td>\n",
       "      <td>0.0</td>\n",
       "      <td>16.0</td>\n",
       "      <td>2.0</td>\n",
       "      <td>49.0</td>\n",
       "      <td>49.0</td>\n",
       "    </tr>\n",
       "    <tr>\n",
       "      <th>4</th>\n",
       "      <td>4</td>\n",
       "      <td>24288194</td>\n",
       "      <td>2006-09-13</td>\n",
       "      <td>TRESPASS 3, CRIMINAL</td>\n",
       "      <td>CRIMINAL TRESPASS</td>\n",
       "      <td>PL 140100E</td>\n",
       "      <td>M</td>\n",
       "      <td>45-64</td>\n",
       "      <td>M</td>\n",
       "      <td>BLACK</td>\n",
       "      <td>40.671254</td>\n",
       "      <td>-73.926714</td>\n",
       "      <td>K</td>\n",
       "      <td>77.0</td>\n",
       "      <td>2.0</td>\n",
       "      <td>16.0</td>\n",
       "      <td>2.0</td>\n",
       "      <td>49.0</td>\n",
       "      <td>49.0</td>\n",
       "    </tr>\n",
       "  </tbody>\n",
       "</table>\n",
       "</div>"
      ],
      "text/plain": [
       "   Unnamed: 0  arrest_key arrest_date  \\\n",
       "0           0   192799737  2019-01-26   \n",
       "1           1   193260691  2019-02-06   \n",
       "2           2   149117452  2016-01-06   \n",
       "3           3   190049060  2018-11-15   \n",
       "4           4    24288194  2006-09-13   \n",
       "\n",
       "                                   pd_desc                       ofns_desc  \\\n",
       "0                             SEXUAL ABUSE                      SEX CRIMES   \n",
       "1  CRIMINAL SALE OF A CONTROLLED SUBSTANCE  CONTROLLED SUBSTANCES OFFENSES   \n",
       "2                                   RAPE 3                            RAPE   \n",
       "3                                   RAPE 1                            RAPE   \n",
       "4                     TRESPASS 3, CRIMINAL               CRIMINAL TRESPASS   \n",
       "\n",
       "     law_code law_cat_cd age_group perp_sex perp_race   latitude  longitude  \\\n",
       "0  PL 1306503          F     45-64        M     BLACK  40.800694 -73.941109   \n",
       "1  PL 2203400          F     25-44        M   UNKNOWN  40.757839 -73.991212   \n",
       "2  PL 1302503          F     25-44        M     BLACK  40.648650 -73.950336   \n",
       "3  PL 1303501          F     25-44        M     BLACK  40.674583 -73.930222   \n",
       "4  PL 140100E          M     45-64        M     BLACK  40.671254 -73.926714   \n",
       "\n",
       "  arrest_boro  arrest_precinct  jurisdiction_code  \\\n",
       "0           M             25.0                0.0   \n",
       "1           M             14.0                0.0   \n",
       "2           K             67.0                0.0   \n",
       "3           K             77.0                0.0   \n",
       "4           K             77.0                2.0   \n",
       "\n",
       "   :@computed_region_f5dn_yrer  :@computed_region_yeji_bk3q  \\\n",
       "0                          7.0                          4.0   \n",
       "1                         12.0                          4.0   \n",
       "2                         61.0                          2.0   \n",
       "3                         16.0                          2.0   \n",
       "4                         16.0                          2.0   \n",
       "\n",
       "   :@computed_region_92fq_4b7q  :@computed_region_sbqj_enih  \n",
       "0                         36.0                         16.0  \n",
       "1                         10.0                          8.0  \n",
       "2                         11.0                         40.0  \n",
       "3                         49.0                         49.0  \n",
       "4                         49.0                         49.0  "
      ]
     },
     "execution_count": 3,
     "metadata": {},
     "output_type": "execute_result"
    }
   ],
   "source": [
    "crimes.head()"
   ]
  },
  {
   "cell_type": "code",
   "execution_count": 4,
   "metadata": {},
   "outputs": [
    {
     "name": "stdout",
     "output_type": "stream",
     "text": [
      "<class 'pandas.core.frame.DataFrame'>\n",
      "RangeIndex: 1309169 entries, 0 to 1309168\n",
      "Data columns (total 19 columns):\n",
      " #   Column                       Non-Null Count    Dtype  \n",
      "---  ------                       --------------    -----  \n",
      " 0   Unnamed: 0                   1309169 non-null  int64  \n",
      " 1   arrest_key                   1309169 non-null  int64  \n",
      " 2   arrest_date                  1309169 non-null  object \n",
      " 3   pd_desc                      1309169 non-null  object \n",
      " 4   ofns_desc                    1309169 non-null  object \n",
      " 5   law_code                     1309168 non-null  object \n",
      " 6   law_cat_cd                   1302726 non-null  object \n",
      " 7   age_group                    1309168 non-null  object \n",
      " 8   perp_sex                     1309168 non-null  object \n",
      " 9   perp_race                    1309168 non-null  object \n",
      " 10  latitude                     1309168 non-null  float64\n",
      " 11  longitude                    1309168 non-null  float64\n",
      " 12  arrest_boro                  1309168 non-null  object \n",
      " 13  arrest_precinct              1309168 non-null  float64\n",
      " 14  jurisdiction_code            1309168 non-null  float64\n",
      " 15  :@computed_region_f5dn_yrer  1308918 non-null  float64\n",
      " 16  :@computed_region_yeji_bk3q  1308920 non-null  float64\n",
      " 17  :@computed_region_92fq_4b7q  1308918 non-null  float64\n",
      " 18  :@computed_region_sbqj_enih  1308917 non-null  float64\n",
      "dtypes: float64(8), int64(2), object(9)\n",
      "memory usage: 189.8+ MB\n"
     ]
    }
   ],
   "source": [
    "crimes.info()"
   ]
  },
  {
   "cell_type": "markdown",
   "metadata": {},
   "source": [
    "## Entendendo a base de dados\n",
    "### As colunas"
   ]
  },
  {
   "cell_type": "markdown",
   "metadata": {},
   "source": [
    "| pd_desc | ofns_desc | law_code | law_cat_cd | arrest_boro | arrest_precinct| \n",
    "| --- | --- | --- | ---| --- | ---|\n",
    "| PD code | Ofense key code | Penal Law code | Level of Offense| The borough of arrest| Police precinct  of arrest"
   ]
  },
  {
   "cell_type": "markdown",
   "metadata": {},
   "source": [
    "|:@computed_region_f5dn_yrer|:@computed_region_yeji_bk3q| :@computed_region_92fq_4b7q| :@computed_region_sbqj_enih\n",
    "|---|---|---|---|\n",
    "|Community Districts| Borough Boundaries| City Council Districts| Police Precincts"
   ]
  },
  {
   "cell_type": "markdown",
   "metadata": {},
   "source": [
    "Informações obtidas na descrição da base de dados escolhida"
   ]
  },
  {
   "cell_type": "markdown",
   "metadata": {},
   "source": [
    "Não interessa para essa análise as colunas `Unnamed: 0` e `arrest_key`, então vamos retirá-las"
   ]
  },
  {
   "cell_type": "code",
   "execution_count": 82,
   "metadata": {},
   "outputs": [],
   "source": [
    "crimes_filtered = crimes.drop (columns=['arrest_key', 'Unnamed: 0'])"
   ]
  },
  {
   "cell_type": "code",
   "execution_count": 83,
   "metadata": {},
   "outputs": [],
   "source": [
    "crimes_filtered = crimes_filtered.rename(columns={\":@computed_region_f5dn_yrer\":\"comm_distr\",\n",
    "                                                  \":@computed_region_yeji_bk3q\":\"boro_bound\",\n",
    "                                                  \":@computed_region_92fq_4b7q\": \"cty_counc_ditr\",\n",
    "                                                  \":@computed_region_sbqj_enih\": \"pd_precinct\",\n",
    "                                                  \"law_cat_cd\": \"lvl_offense\",\n",
    "                                                  \"pd_desc\": \"pd_code\"\n",
    "                      })"
   ]
  },
  {
   "cell_type": "code",
   "execution_count": 84,
   "metadata": {},
   "outputs": [
    {
     "data": {
      "text/html": [
       "<div>\n",
       "<style scoped>\n",
       "    .dataframe tbody tr th:only-of-type {\n",
       "        vertical-align: middle;\n",
       "    }\n",
       "\n",
       "    .dataframe tbody tr th {\n",
       "        vertical-align: top;\n",
       "    }\n",
       "\n",
       "    .dataframe thead th {\n",
       "        text-align: right;\n",
       "    }\n",
       "</style>\n",
       "<table border=\"1\" class=\"dataframe\">\n",
       "  <thead>\n",
       "    <tr style=\"text-align: right;\">\n",
       "      <th></th>\n",
       "      <th>arrest_date</th>\n",
       "      <th>pd_code</th>\n",
       "      <th>ofns_desc</th>\n",
       "      <th>law_code</th>\n",
       "      <th>lvl_offense</th>\n",
       "      <th>age_group</th>\n",
       "      <th>perp_sex</th>\n",
       "      <th>perp_race</th>\n",
       "      <th>latitude</th>\n",
       "      <th>longitude</th>\n",
       "      <th>arrest_boro</th>\n",
       "      <th>arrest_precinct</th>\n",
       "      <th>jurisdiction_code</th>\n",
       "      <th>comm_distr</th>\n",
       "      <th>boro_bound</th>\n",
       "      <th>cty_counc_ditr</th>\n",
       "      <th>pd_precinct</th>\n",
       "    </tr>\n",
       "  </thead>\n",
       "  <tbody>\n",
       "    <tr>\n",
       "      <th>0</th>\n",
       "      <td>2019-01-26</td>\n",
       "      <td>SEXUAL ABUSE</td>\n",
       "      <td>SEX CRIMES</td>\n",
       "      <td>PL 1306503</td>\n",
       "      <td>F</td>\n",
       "      <td>45-64</td>\n",
       "      <td>M</td>\n",
       "      <td>BLACK</td>\n",
       "      <td>40.800694</td>\n",
       "      <td>-73.941109</td>\n",
       "      <td>M</td>\n",
       "      <td>25.0</td>\n",
       "      <td>0.0</td>\n",
       "      <td>7.0</td>\n",
       "      <td>4.0</td>\n",
       "      <td>36.0</td>\n",
       "      <td>16.0</td>\n",
       "    </tr>\n",
       "    <tr>\n",
       "      <th>1</th>\n",
       "      <td>2019-02-06</td>\n",
       "      <td>CRIMINAL SALE OF A CONTROLLED SUBSTANCE</td>\n",
       "      <td>CONTROLLED SUBSTANCES OFFENSES</td>\n",
       "      <td>PL 2203400</td>\n",
       "      <td>F</td>\n",
       "      <td>25-44</td>\n",
       "      <td>M</td>\n",
       "      <td>UNKNOWN</td>\n",
       "      <td>40.757839</td>\n",
       "      <td>-73.991212</td>\n",
       "      <td>M</td>\n",
       "      <td>14.0</td>\n",
       "      <td>0.0</td>\n",
       "      <td>12.0</td>\n",
       "      <td>4.0</td>\n",
       "      <td>10.0</td>\n",
       "      <td>8.0</td>\n",
       "    </tr>\n",
       "    <tr>\n",
       "      <th>2</th>\n",
       "      <td>2016-01-06</td>\n",
       "      <td>RAPE 3</td>\n",
       "      <td>RAPE</td>\n",
       "      <td>PL 1302503</td>\n",
       "      <td>F</td>\n",
       "      <td>25-44</td>\n",
       "      <td>M</td>\n",
       "      <td>BLACK</td>\n",
       "      <td>40.648650</td>\n",
       "      <td>-73.950336</td>\n",
       "      <td>K</td>\n",
       "      <td>67.0</td>\n",
       "      <td>0.0</td>\n",
       "      <td>61.0</td>\n",
       "      <td>2.0</td>\n",
       "      <td>11.0</td>\n",
       "      <td>40.0</td>\n",
       "    </tr>\n",
       "    <tr>\n",
       "      <th>3</th>\n",
       "      <td>2018-11-15</td>\n",
       "      <td>RAPE 1</td>\n",
       "      <td>RAPE</td>\n",
       "      <td>PL 1303501</td>\n",
       "      <td>F</td>\n",
       "      <td>25-44</td>\n",
       "      <td>M</td>\n",
       "      <td>BLACK</td>\n",
       "      <td>40.674583</td>\n",
       "      <td>-73.930222</td>\n",
       "      <td>K</td>\n",
       "      <td>77.0</td>\n",
       "      <td>0.0</td>\n",
       "      <td>16.0</td>\n",
       "      <td>2.0</td>\n",
       "      <td>49.0</td>\n",
       "      <td>49.0</td>\n",
       "    </tr>\n",
       "    <tr>\n",
       "      <th>4</th>\n",
       "      <td>2006-09-13</td>\n",
       "      <td>TRESPASS 3, CRIMINAL</td>\n",
       "      <td>CRIMINAL TRESPASS</td>\n",
       "      <td>PL 140100E</td>\n",
       "      <td>M</td>\n",
       "      <td>45-64</td>\n",
       "      <td>M</td>\n",
       "      <td>BLACK</td>\n",
       "      <td>40.671254</td>\n",
       "      <td>-73.926714</td>\n",
       "      <td>K</td>\n",
       "      <td>77.0</td>\n",
       "      <td>2.0</td>\n",
       "      <td>16.0</td>\n",
       "      <td>2.0</td>\n",
       "      <td>49.0</td>\n",
       "      <td>49.0</td>\n",
       "    </tr>\n",
       "  </tbody>\n",
       "</table>\n",
       "</div>"
      ],
      "text/plain": [
       "  arrest_date                                  pd_code  \\\n",
       "0  2019-01-26                             SEXUAL ABUSE   \n",
       "1  2019-02-06  CRIMINAL SALE OF A CONTROLLED SUBSTANCE   \n",
       "2  2016-01-06                                   RAPE 3   \n",
       "3  2018-11-15                                   RAPE 1   \n",
       "4  2006-09-13                     TRESPASS 3, CRIMINAL   \n",
       "\n",
       "                        ofns_desc    law_code lvl_offense age_group perp_sex  \\\n",
       "0                      SEX CRIMES  PL 1306503           F     45-64        M   \n",
       "1  CONTROLLED SUBSTANCES OFFENSES  PL 2203400           F     25-44        M   \n",
       "2                            RAPE  PL 1302503           F     25-44        M   \n",
       "3                            RAPE  PL 1303501           F     25-44        M   \n",
       "4               CRIMINAL TRESPASS  PL 140100E           M     45-64        M   \n",
       "\n",
       "  perp_race   latitude  longitude arrest_boro  arrest_precinct  \\\n",
       "0     BLACK  40.800694 -73.941109           M             25.0   \n",
       "1   UNKNOWN  40.757839 -73.991212           M             14.0   \n",
       "2     BLACK  40.648650 -73.950336           K             67.0   \n",
       "3     BLACK  40.674583 -73.930222           K             77.0   \n",
       "4     BLACK  40.671254 -73.926714           K             77.0   \n",
       "\n",
       "   jurisdiction_code  comm_distr  boro_bound  cty_counc_ditr  pd_precinct  \n",
       "0                0.0         7.0         4.0            36.0         16.0  \n",
       "1                0.0        12.0         4.0            10.0          8.0  \n",
       "2                0.0        61.0         2.0            11.0         40.0  \n",
       "3                0.0        16.0         2.0            49.0         49.0  \n",
       "4                2.0        16.0         2.0            49.0         49.0  "
      ]
     },
     "execution_count": 84,
     "metadata": {},
     "output_type": "execute_result"
    }
   ],
   "source": [
    "crimes_filtered.head()"
   ]
  },
  {
   "cell_type": "markdown",
   "metadata": {},
   "source": [
    "### As linhas"
   ]
  },
  {
   "cell_type": "markdown",
   "metadata": {},
   "source": [
    "Simplificando os valores da coluna `perp_race`"
   ]
  },
  {
   "cell_type": "code",
   "execution_count": 85,
   "metadata": {},
   "outputs": [
    {
     "data": {
      "text/plain": [
       "BLACK                             628533\n",
       "WHITE HISPANIC                    333782\n",
       "WHITE                             159061\n",
       "BLACK HISPANIC                    109367\n",
       "ASIAN / PACIFIC ISLANDER           62627\n",
       "UNKNOWN                            11616\n",
       "AMERICAN INDIAN/ALASKAN NATIVE      3143\n",
       "OTHER                               1039\n",
       "Name: perp_race, dtype: int64"
      ]
     },
     "execution_count": 85,
     "metadata": {},
     "output_type": "execute_result"
    }
   ],
   "source": [
    "crimes_filtered['perp_race'].value_counts()"
   ]
  },
  {
   "cell_type": "code",
   "execution_count": 86,
   "metadata": {},
   "outputs": [],
   "source": [
    "crimes_filtered['perp_race'][crimes_filtered['perp_race']=='AMERICAN INDIAN/ALASKAN NATIVE']='Native'\n",
    "crimes_filtered['perp_race'][crimes_filtered['perp_race']=='BLACK']='Black'\n",
    "crimes_filtered['perp_race'][crimes_filtered['perp_race']=='WHITE']='White'\n",
    "crimes_filtered['perp_race'][crimes_filtered['perp_race']=='ASIAN / PACIFIC ISLANDER']='Asian'\n",
    "crimes_filtered['perp_race'][crimes_filtered['perp_race']=='WHITE HISPANIC']='White Hispanic'\n",
    "crimes_filtered['perp_race'][crimes_filtered['perp_race']=='BLACK HISPANIC']='Black Hispanic'\n",
    "crimes_filtered['perp_race'][crimes_filtered['perp_race']=='UNKNOWN']='Unknown'\n",
    "crimes_filtered['perp_race'][crimes_filtered['perp_race']=='OTHER']='Other'"
   ]
  },
  {
   "cell_type": "code",
   "execution_count": 87,
   "metadata": {},
   "outputs": [
    {
     "data": {
      "text/plain": [
       "Black             628533\n",
       "White Hispanic    333782\n",
       "White             159061\n",
       "Black Hispanic    109367\n",
       "Asian              62627\n",
       "Unknown            11616\n",
       "Native              3143\n",
       "Other               1039\n",
       "Name: perp_race, dtype: int64"
      ]
     },
     "execution_count": 87,
     "metadata": {},
     "output_type": "execute_result"
    }
   ],
   "source": [
    "crimes_filtered['perp_race'].value_counts()"
   ]
  },
  {
   "cell_type": "markdown",
   "metadata": {},
   "source": [
    "<br>\n",
    "Retirando os valores faltantes\n",
    "<br>"
   ]
  },
  {
   "cell_type": "code",
   "execution_count": 88,
   "metadata": {},
   "outputs": [],
   "source": [
    "crimes_filtered=crimes_filtered.dropna()"
   ]
  },
  {
   "cell_type": "markdown",
   "metadata": {},
   "source": [
    "## Escolhendo os valores a serem utilizados na visualização"
   ]
  },
  {
   "cell_type": "markdown",
   "metadata": {},
   "source": [
    "<br>\n",
    "Selecionando apenas as prisões realizadas em <b> 2019 </b>"
   ]
  },
  {
   "cell_type": "code",
   "execution_count": 89,
   "metadata": {},
   "outputs": [],
   "source": [
    "crimes_2019 = []\n",
    "for i in crimes_filtered['arrest_date']:\n",
    "    if '2019' in i:\n",
    "        crimes_2019.append(i)"
   ]
  },
  {
   "cell_type": "code",
   "execution_count": 90,
   "metadata": {},
   "outputs": [
    {
     "name": "stdout",
     "output_type": "stream",
     "text": [
      "<class 'pandas.core.frame.DataFrame'>\n",
      "Int64Index: 160787 entries, 0 to 162616\n",
      "Data columns (total 17 columns):\n",
      " #   Column             Non-Null Count   Dtype  \n",
      "---  ------             --------------   -----  \n",
      " 0   arrest_date        160787 non-null  object \n",
      " 1   pd_code            160787 non-null  object \n",
      " 2   ofns_desc          160787 non-null  object \n",
      " 3   law_code           160787 non-null  object \n",
      " 4   lvl_offense        160787 non-null  object \n",
      " 5   age_group          160787 non-null  object \n",
      " 6   perp_sex           160787 non-null  object \n",
      " 7   perp_race          160787 non-null  object \n",
      " 8   latitude           160787 non-null  float64\n",
      " 9   longitude          160787 non-null  float64\n",
      " 10  arrest_boro        160787 non-null  object \n",
      " 11  arrest_precinct    160787 non-null  float64\n",
      " 12  jurisdiction_code  160787 non-null  float64\n",
      " 13  comm_distr         160787 non-null  float64\n",
      " 14  boro_bound         160787 non-null  float64\n",
      " 15  cty_counc_ditr     160787 non-null  float64\n",
      " 16  pd_precinct        160787 non-null  float64\n",
      "dtypes: float64(8), object(9)\n",
      "memory usage: 22.1+ MB\n"
     ]
    }
   ],
   "source": [
    "crimes_filtered = crimes_filtered.loc[crimes_filtered['arrest_date'].isin(crimes_2019)]\n",
    "crimes_filtered.info()"
   ]
  },
  {
   "cell_type": "markdown",
   "metadata": {},
   "source": [
    "<br>"
   ]
  },
  {
   "cell_type": "markdown",
   "metadata": {},
   "source": [
    "\n",
    "Selecionado apenas `perp_sex` igual a <b> M </b>"
   ]
  },
  {
   "cell_type": "code",
   "execution_count": 91,
   "metadata": {},
   "outputs": [
    {
     "name": "stdout",
     "output_type": "stream",
     "text": [
      "<class 'pandas.core.frame.DataFrame'>\n",
      "Int64Index: 131185 entries, 0 to 162615\n",
      "Data columns (total 17 columns):\n",
      " #   Column             Non-Null Count   Dtype  \n",
      "---  ------             --------------   -----  \n",
      " 0   arrest_date        131185 non-null  object \n",
      " 1   pd_code            131185 non-null  object \n",
      " 2   ofns_desc          131185 non-null  object \n",
      " 3   law_code           131185 non-null  object \n",
      " 4   lvl_offense        131185 non-null  object \n",
      " 5   age_group          131185 non-null  object \n",
      " 6   perp_sex           131185 non-null  object \n",
      " 7   perp_race          131185 non-null  object \n",
      " 8   latitude           131185 non-null  float64\n",
      " 9   longitude          131185 non-null  float64\n",
      " 10  arrest_boro        131185 non-null  object \n",
      " 11  arrest_precinct    131185 non-null  float64\n",
      " 12  jurisdiction_code  131185 non-null  float64\n",
      " 13  comm_distr         131185 non-null  float64\n",
      " 14  boro_bound         131185 non-null  float64\n",
      " 15  cty_counc_ditr     131185 non-null  float64\n",
      " 16  pd_precinct        131185 non-null  float64\n",
      "dtypes: float64(8), object(9)\n",
      "memory usage: 18.0+ MB\n"
     ]
    }
   ],
   "source": [
    "crimes_filtered = crimes_filtered.loc[crimes_filtered['perp_sex']=='M']\n",
    "crimes_filtered.info()"
   ]
  },
  {
   "cell_type": "markdown",
   "metadata": {},
   "source": [
    "# Análise unidimensional"
   ]
  },
  {
   "cell_type": "code",
   "execution_count": 92,
   "metadata": {},
   "outputs": [
    {
     "data": {
      "text/plain": [
       "Text(0, 0.5, '')"
      ]
     },
     "execution_count": 92,
     "metadata": {},
     "output_type": "execute_result"
    },
    {
     "data": {
      "image/png": "[encoded data removed]",
      "text/plain": [
       "<Figure size 432x288 with 1 Axes>"
      ]
     },
     "metadata": {
      "needs_background": "light"
     },
     "output_type": "display_data"
    }
   ],
   "source": [
    "sns.countplot(y=\"perp_race\", \n",
    "              data = crimes_filtered, \n",
    "              palette=\"mako\",\n",
    "              order = crimes_filtered['perp_race'].value_counts().index)\n",
    "plt.xlabel(\"Race\")\n",
    "plt.ylabel(\"\")"
   ]
  },
  {
   "cell_type": "code",
   "execution_count": 93,
   "metadata": {},
   "outputs": [
    {
     "data": {
      "text/plain": [
       "Text(0, 0.5, '')"
      ]
     },
     "execution_count": 93,
     "metadata": {},
     "output_type": "execute_result"
    },
    {
     "data": {
      "image/png": "[encoded data removed]",
      "text/plain": [
       "<Figure size 432x288 with 1 Axes>"
      ]
     },
     "metadata": {
      "needs_background": "light"
     },
     "output_type": "display_data"
    }
   ],
   "source": [
    "age_order = [\"<18\",\"18-24\",\"25-44\",\"45-64\",\"65+\"]\n",
    "qualitative_colors= sns.color_palette(\"Set3\",5)\n",
    "sns.countplot(x=\"age_group\", \n",
    "              data = crimes_filtered, \n",
    "              order=age_order, \n",
    "              palette=\"mako\")\n",
    "plt.xlabel(\"Age Group\")\n",
    "plt.ylabel(\"\")"
   ]
  },
  {
   "cell_type": "code",
   "execution_count": 94,
   "metadata": {},
   "outputs": [
    {
     "data": {
      "text/plain": [
       "Text(0, 0.5, '')"
      ]
     },
     "execution_count": 94,
     "metadata": {},
     "output_type": "execute_result"
    },
    {
     "data": {
      "image/png": "[encoded data removed]",
      "text/plain": [
       "<Figure size 432x288 with 1 Axes>"
      ]
     },
     "metadata": {
      "needs_background": "light"
     },
     "output_type": "display_data"
    }
   ],
   "source": [
    "sns.countplot(x=\"lvl_offense\", \n",
    "              data = crimes_filtered,  \n",
    "              palette=\"mako\",\n",
    "             order = crimes_filtered['lvl_offense'].value_counts().index)\n",
    "plt.xlabel(\"Type of crime\")\n",
    "plt.ylabel(\"\")"
   ]
  }
 ],
 "metadata": {
  "kernelspec": {
   "display_name": "Python 3",
   "language": "python",
   "name": "python3"
  },
  "language_info": {
   "codemirror_mode": {
    "name": "ipython",
    "version": 3
   },
   "file_extension": ".py",
   "mimetype": "text/x-python",
   "name": "python",
   "nbconvert_exporter": "python",
   "pygments_lexer": "ipython3",
   "version": "3.7.6"
  }
 },
 "nbformat": 4,
 "nbformat_minor": 4
}
