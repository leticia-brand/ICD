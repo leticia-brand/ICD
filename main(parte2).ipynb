{
 "cells": [
  {
   "cell_type": "markdown",
   "metadata": {},
   "source": [
    "# Onde ocorrem as Violations e Infractions?"
   ]
  },
  {
   "cell_type": "code",
   "execution_count": 2,
   "metadata": {},
   "outputs": [],
   "source": [
    "import pandas as pd\n",
    "import numpy as np\n",
    "import warnings\n",
    "import matplotlib.pyplot as plt\n",
    "import folium\n",
    "import contextily as ctx\n",
    "import warnings\n",
    "import datetime\n",
    "from datetime import date\n",
    "import seaborn as sns\n",
    "warnings.simplefilter(action='ignore')"
   ]
  },
  {
   "cell_type": "code",
   "execution_count": 3,
   "metadata": {},
   "outputs": [],
   "source": [
    "offense_little = pd.read_csv(\"offense_little.csv\")\n",
    "crimes_filtered = pd.read_csv(\"crimes_filtered.csv\")"
   ]
  },
  {
   "cell_type": "code",
   "execution_count": 4,
   "metadata": {},
   "outputs": [],
   "source": [
    "little_crimes_map= folium.Map (location = [40.730610, -73.935242], zoom_start = 10.4)\n",
    "for indice, row in offense_little.iterrows():\n",
    "    folium.Marker(\n",
    "        location=[row[\"latitude\"], row[\"longitude\"]],\n",
    "        icon=folium.Icon(color=\"red\", icon=\"info-sign\"),\n",
    "        popup= row [\"ofns_desc\"]\n",
    "    ).add_to(little_crimes_map)"
   ]
  },
  {
   "cell_type": "code",
   "execution_count": null,
   "metadata": {},
   "outputs": [],
   "source": [
    "little_crimes_map"
   ]
  },
  {
   "cell_type": "markdown",
   "metadata": {},
   "source": [
    "## Construindo heatmap de crimes de acordo com a semana"
   ]
  },
  {
   "cell_type": "code",
   "execution_count": 5,
   "metadata": {},
   "outputs": [],
   "source": [
    "crimes_week = []\n",
    "for i in crimes_filtered['arrest_date']:\n",
    "    week = date.fromisoformat(i).strftime('%W') \n",
    "    crimes_week.append(week)"
   ]
  },
  {
   "cell_type": "code",
   "execution_count": 6,
   "metadata": {},
   "outputs": [
    {
     "data": {
      "text/html": [
       "<div>\n",
       "<style scoped>\n",
       "    .dataframe tbody tr th:only-of-type {\n",
       "        vertical-align: middle;\n",
       "    }\n",
       "\n",
       "    .dataframe tbody tr th {\n",
       "        vertical-align: top;\n",
       "    }\n",
       "\n",
       "    .dataframe thead th {\n",
       "        text-align: right;\n",
       "    }\n",
       "</style>\n",
       "<table border=\"1\" class=\"dataframe\">\n",
       "  <thead>\n",
       "    <tr style=\"text-align: right;\">\n",
       "      <th></th>\n",
       "      <th>Unnamed: 0</th>\n",
       "      <th>arrest_date</th>\n",
       "      <th>pd_code</th>\n",
       "      <th>ofns_desc</th>\n",
       "      <th>law_code</th>\n",
       "      <th>lvl_offense</th>\n",
       "      <th>age_group</th>\n",
       "      <th>perp_sex</th>\n",
       "      <th>perp_race</th>\n",
       "      <th>latitude</th>\n",
       "      <th>longitude</th>\n",
       "      <th>arrest_boro</th>\n",
       "      <th>arrest_precinct</th>\n",
       "      <th>jurisdiction_code</th>\n",
       "      <th>comm_distr</th>\n",
       "      <th>boro_bound</th>\n",
       "      <th>cty_counc_ditr</th>\n",
       "      <th>pd_precinct</th>\n",
       "      <th>week</th>\n",
       "    </tr>\n",
       "  </thead>\n",
       "  <tbody>\n",
       "    <tr>\n",
       "      <th>0</th>\n",
       "      <td>0</td>\n",
       "      <td>2019-01-26</td>\n",
       "      <td>SEXUAL ABUSE</td>\n",
       "      <td>SEX CRIMES</td>\n",
       "      <td>PL 1306503</td>\n",
       "      <td>Felony</td>\n",
       "      <td>45-64</td>\n",
       "      <td>M</td>\n",
       "      <td>Black</td>\n",
       "      <td>40.800694</td>\n",
       "      <td>-73.941109</td>\n",
       "      <td>Manhattan</td>\n",
       "      <td>25.0</td>\n",
       "      <td>0.0</td>\n",
       "      <td>7.0</td>\n",
       "      <td>4.0</td>\n",
       "      <td>36.0</td>\n",
       "      <td>16.0</td>\n",
       "      <td>03</td>\n",
       "    </tr>\n",
       "    <tr>\n",
       "      <th>1</th>\n",
       "      <td>1</td>\n",
       "      <td>2019-02-06</td>\n",
       "      <td>CRIMINAL SALE OF A CONTROLLED SUBSTANCE</td>\n",
       "      <td>CONTROLLED SUBSTANCES OFFENSES</td>\n",
       "      <td>PL 2203400</td>\n",
       "      <td>Felony</td>\n",
       "      <td>25-44</td>\n",
       "      <td>M</td>\n",
       "      <td>Unknown</td>\n",
       "      <td>40.757839</td>\n",
       "      <td>-73.991212</td>\n",
       "      <td>Manhattan</td>\n",
       "      <td>14.0</td>\n",
       "      <td>0.0</td>\n",
       "      <td>12.0</td>\n",
       "      <td>4.0</td>\n",
       "      <td>10.0</td>\n",
       "      <td>8.0</td>\n",
       "      <td>05</td>\n",
       "    </tr>\n",
       "    <tr>\n",
       "      <th>2</th>\n",
       "      <td>6</td>\n",
       "      <td>2019-04-23</td>\n",
       "      <td>RAPE 1</td>\n",
       "      <td>RAPE</td>\n",
       "      <td>PL 1303501</td>\n",
       "      <td>Felony</td>\n",
       "      <td>45-64</td>\n",
       "      <td>M</td>\n",
       "      <td>Black Hispanic</td>\n",
       "      <td>40.674583</td>\n",
       "      <td>-73.930222</td>\n",
       "      <td>Kings</td>\n",
       "      <td>77.0</td>\n",
       "      <td>0.0</td>\n",
       "      <td>16.0</td>\n",
       "      <td>2.0</td>\n",
       "      <td>49.0</td>\n",
       "      <td>49.0</td>\n",
       "      <td>16</td>\n",
       "    </tr>\n",
       "    <tr>\n",
       "      <th>3</th>\n",
       "      <td>7</td>\n",
       "      <td>2019-05-04</td>\n",
       "      <td>SEXUAL ABUSE 3,2</td>\n",
       "      <td>SEX CRIMES</td>\n",
       "      <td>PL 13052A1</td>\n",
       "      <td>Misdemeanor</td>\n",
       "      <td>25-44</td>\n",
       "      <td>M</td>\n",
       "      <td>Black</td>\n",
       "      <td>40.883383</td>\n",
       "      <td>-73.902333</td>\n",
       "      <td>Bronx</td>\n",
       "      <td>50.0</td>\n",
       "      <td>0.0</td>\n",
       "      <td>48.0</td>\n",
       "      <td>5.0</td>\n",
       "      <td>40.0</td>\n",
       "      <td>33.0</td>\n",
       "      <td>17</td>\n",
       "    </tr>\n",
       "    <tr>\n",
       "      <th>4</th>\n",
       "      <td>11</td>\n",
       "      <td>2019-07-16</td>\n",
       "      <td>STRANGULATION 1ST</td>\n",
       "      <td>FELONY ASSAULT</td>\n",
       "      <td>PL 1211200</td>\n",
       "      <td>Felony</td>\n",
       "      <td>45-64</td>\n",
       "      <td>M</td>\n",
       "      <td>Black</td>\n",
       "      <td>40.675492</td>\n",
       "      <td>-73.800926</td>\n",
       "      <td>Queens</td>\n",
       "      <td>113.0</td>\n",
       "      <td>0.0</td>\n",
       "      <td>41.0</td>\n",
       "      <td>3.0</td>\n",
       "      <td>46.0</td>\n",
       "      <td>71.0</td>\n",
       "      <td>28</td>\n",
       "    </tr>\n",
       "  </tbody>\n",
       "</table>\n",
       "</div>"
      ],
      "text/plain": [
       "   Unnamed: 0 arrest_date                                  pd_code  \\\n",
       "0           0  2019-01-26                             SEXUAL ABUSE   \n",
       "1           1  2019-02-06  CRIMINAL SALE OF A CONTROLLED SUBSTANCE   \n",
       "2           6  2019-04-23                                   RAPE 1   \n",
       "3           7  2019-05-04                         SEXUAL ABUSE 3,2   \n",
       "4          11  2019-07-16                        STRANGULATION 1ST   \n",
       "\n",
       "                        ofns_desc    law_code  lvl_offense age_group perp_sex  \\\n",
       "0                      SEX CRIMES  PL 1306503       Felony     45-64        M   \n",
       "1  CONTROLLED SUBSTANCES OFFENSES  PL 2203400       Felony     25-44        M   \n",
       "2                            RAPE  PL 1303501       Felony     45-64        M   \n",
       "3                      SEX CRIMES  PL 13052A1  Misdemeanor     25-44        M   \n",
       "4                  FELONY ASSAULT  PL 1211200       Felony     45-64        M   \n",
       "\n",
       "        perp_race   latitude  longitude arrest_boro  arrest_precinct  \\\n",
       "0           Black  40.800694 -73.941109   Manhattan             25.0   \n",
       "1         Unknown  40.757839 -73.991212   Manhattan             14.0   \n",
       "2  Black Hispanic  40.674583 -73.930222       Kings             77.0   \n",
       "3           Black  40.883383 -73.902333       Bronx             50.0   \n",
       "4           Black  40.675492 -73.800926      Queens            113.0   \n",
       "\n",
       "   jurisdiction_code  comm_distr  boro_bound  cty_counc_ditr  pd_precinct week  \n",
       "0                0.0         7.0         4.0            36.0         16.0   03  \n",
       "1                0.0        12.0         4.0            10.0          8.0   05  \n",
       "2                0.0        16.0         2.0            49.0         49.0   16  \n",
       "3                0.0        48.0         5.0            40.0         33.0   17  \n",
       "4                0.0        41.0         3.0            46.0         71.0   28  "
      ]
     },
     "execution_count": 6,
     "metadata": {},
     "output_type": "execute_result"
    }
   ],
   "source": [
    "crimes_filtered['week']=crimes_week\n",
    "crimes_filtered.head()"
   ]
  },
  {
   "cell_type": "markdown",
   "metadata": {},
   "source": [
    "Adicionando a coluna semana ao dataframe"
   ]
  },
  {
   "cell_type": "code",
   "execution_count": 7,
   "metadata": {},
   "outputs": [
    {
     "name": "stdout",
     "output_type": "stream",
     "text": [
      "<class 'pandas.core.frame.DataFrame'>\n",
      "RangeIndex: 265 entries, 0 to 264\n",
      "Data columns (total 3 columns):\n",
      " #   Column       Non-Null Count  Dtype \n",
      "---  ------       --------------  ----- \n",
      " 0   week         265 non-null    int64 \n",
      " 1   arrest_boro  265 non-null    object\n",
      " 2   count        265 non-null    int64 \n",
      "dtypes: int64(2), object(1)\n",
      "memory usage: 6.3+ KB\n"
     ]
    }
   ],
   "source": [
    "crimes_per_week = crimes_filtered.groupby(['week', 'arrest_boro']).size().reset_index(name='count')\n",
    "crimes_per_week['week']=pd.to_numeric(crimes_per_week['week'])\n",
    "crimes_per_week.info()"
   ]
  },
  {
   "cell_type": "code",
   "execution_count": 8,
   "metadata": {},
   "outputs": [
    {
     "data": {
      "text/html": [
       "<div>\n",
       "<style scoped>\n",
       "    .dataframe tbody tr th:only-of-type {\n",
       "        vertical-align: middle;\n",
       "    }\n",
       "\n",
       "    .dataframe tbody tr th {\n",
       "        vertical-align: top;\n",
       "    }\n",
       "\n",
       "    .dataframe thead th {\n",
       "        text-align: right;\n",
       "    }\n",
       "</style>\n",
       "<table border=\"1\" class=\"dataframe\">\n",
       "  <thead>\n",
       "    <tr style=\"text-align: right;\">\n",
       "      <th>week</th>\n",
       "      <th>0</th>\n",
       "      <th>1</th>\n",
       "      <th>2</th>\n",
       "      <th>3</th>\n",
       "      <th>4</th>\n",
       "      <th>5</th>\n",
       "      <th>6</th>\n",
       "      <th>7</th>\n",
       "      <th>8</th>\n",
       "      <th>9</th>\n",
       "      <th>...</th>\n",
       "      <th>43</th>\n",
       "      <th>44</th>\n",
       "      <th>45</th>\n",
       "      <th>46</th>\n",
       "      <th>47</th>\n",
       "      <th>48</th>\n",
       "      <th>49</th>\n",
       "      <th>50</th>\n",
       "      <th>51</th>\n",
       "      <th>52</th>\n",
       "    </tr>\n",
       "    <tr>\n",
       "      <th>arrest_boro</th>\n",
       "      <th></th>\n",
       "      <th></th>\n",
       "      <th></th>\n",
       "      <th></th>\n",
       "      <th></th>\n",
       "      <th></th>\n",
       "      <th></th>\n",
       "      <th></th>\n",
       "      <th></th>\n",
       "      <th></th>\n",
       "      <th></th>\n",
       "      <th></th>\n",
       "      <th></th>\n",
       "      <th></th>\n",
       "      <th></th>\n",
       "      <th></th>\n",
       "      <th></th>\n",
       "      <th></th>\n",
       "      <th></th>\n",
       "      <th></th>\n",
       "      <th></th>\n",
       "    </tr>\n",
       "  </thead>\n",
       "  <tbody>\n",
       "    <tr>\n",
       "      <th>Bronx</th>\n",
       "      <td>622</td>\n",
       "      <td>772</td>\n",
       "      <td>719</td>\n",
       "      <td>615</td>\n",
       "      <td>620</td>\n",
       "      <td>686</td>\n",
       "      <td>672</td>\n",
       "      <td>604</td>\n",
       "      <td>661</td>\n",
       "      <td>729</td>\n",
       "      <td>...</td>\n",
       "      <td>475</td>\n",
       "      <td>546</td>\n",
       "      <td>547</td>\n",
       "      <td>605</td>\n",
       "      <td>440</td>\n",
       "      <td>520</td>\n",
       "      <td>494</td>\n",
       "      <td>384</td>\n",
       "      <td>318</td>\n",
       "      <td>84</td>\n",
       "    </tr>\n",
       "    <tr>\n",
       "      <th>Kings</th>\n",
       "      <td>696</td>\n",
       "      <td>808</td>\n",
       "      <td>837</td>\n",
       "      <td>888</td>\n",
       "      <td>768</td>\n",
       "      <td>829</td>\n",
       "      <td>736</td>\n",
       "      <td>702</td>\n",
       "      <td>727</td>\n",
       "      <td>720</td>\n",
       "      <td>...</td>\n",
       "      <td>625</td>\n",
       "      <td>671</td>\n",
       "      <td>643</td>\n",
       "      <td>603</td>\n",
       "      <td>478</td>\n",
       "      <td>611</td>\n",
       "      <td>570</td>\n",
       "      <td>510</td>\n",
       "      <td>424</td>\n",
       "      <td>100</td>\n",
       "    </tr>\n",
       "    <tr>\n",
       "      <th>Manhattan</th>\n",
       "      <td>681</td>\n",
       "      <td>770</td>\n",
       "      <td>695</td>\n",
       "      <td>737</td>\n",
       "      <td>607</td>\n",
       "      <td>775</td>\n",
       "      <td>707</td>\n",
       "      <td>650</td>\n",
       "      <td>622</td>\n",
       "      <td>645</td>\n",
       "      <td>...</td>\n",
       "      <td>573</td>\n",
       "      <td>586</td>\n",
       "      <td>529</td>\n",
       "      <td>644</td>\n",
       "      <td>449</td>\n",
       "      <td>608</td>\n",
       "      <td>554</td>\n",
       "      <td>511</td>\n",
       "      <td>371</td>\n",
       "      <td>86</td>\n",
       "    </tr>\n",
       "    <tr>\n",
       "      <th>Queens</th>\n",
       "      <td>501</td>\n",
       "      <td>591</td>\n",
       "      <td>606</td>\n",
       "      <td>607</td>\n",
       "      <td>542</td>\n",
       "      <td>635</td>\n",
       "      <td>518</td>\n",
       "      <td>522</td>\n",
       "      <td>535</td>\n",
       "      <td>562</td>\n",
       "      <td>...</td>\n",
       "      <td>471</td>\n",
       "      <td>510</td>\n",
       "      <td>469</td>\n",
       "      <td>540</td>\n",
       "      <td>442</td>\n",
       "      <td>455</td>\n",
       "      <td>435</td>\n",
       "      <td>439</td>\n",
       "      <td>307</td>\n",
       "      <td>80</td>\n",
       "    </tr>\n",
       "    <tr>\n",
       "      <th>Staten Island</th>\n",
       "      <td>105</td>\n",
       "      <td>119</td>\n",
       "      <td>159</td>\n",
       "      <td>144</td>\n",
       "      <td>111</td>\n",
       "      <td>149</td>\n",
       "      <td>102</td>\n",
       "      <td>101</td>\n",
       "      <td>119</td>\n",
       "      <td>104</td>\n",
       "      <td>...</td>\n",
       "      <td>74</td>\n",
       "      <td>89</td>\n",
       "      <td>97</td>\n",
       "      <td>94</td>\n",
       "      <td>72</td>\n",
       "      <td>110</td>\n",
       "      <td>107</td>\n",
       "      <td>71</td>\n",
       "      <td>54</td>\n",
       "      <td>12</td>\n",
       "    </tr>\n",
       "  </tbody>\n",
       "</table>\n",
       "<p>5 rows × 53 columns</p>\n",
       "</div>"
      ],
      "text/plain": [
       "week            0    1    2    3    4    5    6    7    8    9   ...   43  \\\n",
       "arrest_boro                                                      ...        \n",
       "Bronx          622  772  719  615  620  686  672  604  661  729  ...  475   \n",
       "Kings          696  808  837  888  768  829  736  702  727  720  ...  625   \n",
       "Manhattan      681  770  695  737  607  775  707  650  622  645  ...  573   \n",
       "Queens         501  591  606  607  542  635  518  522  535  562  ...  471   \n",
       "Staten Island  105  119  159  144  111  149  102  101  119  104  ...   74   \n",
       "\n",
       "week            44   45   46   47   48   49   50   51   52  \n",
       "arrest_boro                                                 \n",
       "Bronx          546  547  605  440  520  494  384  318   84  \n",
       "Kings          671  643  603  478  611  570  510  424  100  \n",
       "Manhattan      586  529  644  449  608  554  511  371   86  \n",
       "Queens         510  469  540  442  455  435  439  307   80  \n",
       "Staten Island   89   97   94   72  110  107   71   54   12  \n",
       "\n",
       "[5 rows x 53 columns]"
      ]
     },
     "execution_count": 8,
     "metadata": {},
     "output_type": "execute_result"
    }
   ],
   "source": [
    "heat_week = crimes_per_week.pivot('arrest_boro','week', \"count\")\n",
    "heat_week"
   ]
  },
  {
   "cell_type": "markdown",
   "metadata": {},
   "source": [
    "Contando os crimes semanais em cada um dos boroughs "
   ]
  },
  {
   "cell_type": "code",
   "execution_count": 21,
   "metadata": {},
   "outputs": [
    {
     "data": {
      "text/plain": [
       "(array([0.5, 1.5, 2.5, 3.5, 4.5]), <a list of 5 Text yticklabel objects>)"
      ]
     },
     "execution_count": 21,
     "metadata": {},
     "output_type": "execute_result"
    },
    {
     "data": {
      "image/png": "[encoded data removed]",
      "text/plain": [
       "<Figure size 648x432 with 2 Axes>"
      ]
     },
     "metadata": {
      "needs_background": "light"
     },
     "output_type": "display_data"
    }
   ],
   "source": [
    "f, ax = plt.subplots(figsize=(9, 6))\n",
    "sns.heatmap(heat_week, fmt=\"d\", linewidths=.3, ax=ax, cmap=\"coolwarm\")\n",
    "sns.color_palette(\"mako\")\n",
    "plt.xlabel(\"Week\")\n",
    "plt.ylabel(\"\")\n",
    "plt.yticks(rotation = 0)"
   ]
  },
  {
   "cell_type": "markdown",
   "metadata": {},
   "source": [
    "## Para as semanas dos principais feriados americanos"
   ]
  },
  {
   "cell_type": "code",
   "execution_count": 24,
   "metadata": {},
   "outputs": [
    {
     "data": {
      "text/plain": [
       "('51', '47', '22')"
      ]
     },
     "execution_count": 24,
     "metadata": {},
     "output_type": "execute_result"
    }
   ],
   "source": [
    "week_Christmas = date.fromisoformat('2019-12-25').strftime('%W') \n",
    "week_thxs = date.fromisoformat('2019-11-28').strftime('%W') \n",
    "week_indep = date.fromisoformat('2019-06-04').strftime('%W') \n",
    "week_Christmas, week_thxs, week_indep"
   ]
  },
  {
   "cell_type": "code",
   "execution_count": 29,
   "metadata": {},
   "outputs": [
    {
     "data": {
      "text/plain": [
       "(array([0.5, 1.5, 2.5, 3.5, 4.5]), <a list of 5 Text yticklabel objects>)"
      ]
     },
     "execution_count": 29,
     "metadata": {},
     "output_type": "execute_result"
    },
    {
     "data": {
      "image/png": "[encoded data removed]",
      "text/plain": [
       "<Figure size 648x432 with 2 Axes>"
      ]
     },
     "metadata": {
      "needs_background": "light"
     },
     "output_type": "display_data"
    }
   ],
   "source": [
    "f, ax = plt.subplots(figsize=(9, 6))\n",
    "sns.heatmap(heat_week, fmt=\"d\", linewidths=.3, ax=ax, cmap=\"coolwarm\")\n",
    "plt.axvline(22, *ax.get_ylim(),color=\"black\")\n",
    "plt.axvline(47, *ax.get_ylim(),color=\"black\")\n",
    "plt.axvline(51, *ax.get_ylim(),color=\"black\")\n",
    "plt.xlabel(\"Week\")\n",
    "plt.ylabel(\"\")\n",
    "plt.yticks(rotation = 0)"
   ]
  },
  {
   "cell_type": "markdown",
   "metadata": {},
   "source": [
    "Na maioria das vezes, os crimes reportados diminuíram. Isso não acontece com o feriado de Independência no Bronx, Manhattan e Queens"
   ]
  }
 ],
 "metadata": {
  "kernelspec": {
   "display_name": "Python 3",
   "language": "python",
   "name": "python3"
  },
  "language_info": {
   "codemirror_mode": {
    "name": "ipython",
    "version": 3
   },
   "file_extension": ".py",
   "mimetype": "text/x-python",
   "name": "python",
   "nbconvert_exporter": "python",
   "pygments_lexer": "ipython3",
   "version": "3.7.6"
  }
 },
 "nbformat": 4,
 "nbformat_minor": 4
}
